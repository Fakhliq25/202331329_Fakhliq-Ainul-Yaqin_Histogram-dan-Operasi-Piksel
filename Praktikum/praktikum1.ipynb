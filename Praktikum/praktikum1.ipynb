{
 "cells": [
  {
   "cell_type": "code",
   "execution_count": null,
   "id": "d04ec05c-bd7a-4d62-93a5-81eec9488d78",
   "metadata": {},
   "outputs": [],
   "source": [
    "img = cv2.imread('mobil.jpg')\n",
    "#202331329_Fakhliq a Y"
   ]
  },
  {
   "cell_type": "code",
   "execution_count": null,
   "id": "7d691b1c-bf5f-49bd-a441-bcc67b2321a6",
   "metadata": {},
   "outputs": [],
   "source": [
    "import os\n",
    "print(os.path.exists(\"mobil.png\"))"
   ]
  },
  {
   "cell_type": "code",
   "execution_count": null,
   "id": "69c49853-c48b-442a-8382-36c6e63c8a0e",
   "metadata": {},
   "outputs": [],
   "source": [
    "import os\n",
    "print(os.path.exists(\"mobil.jpg\"))"
   ]
  },
  {
   "cell_type": "code",
   "execution_count": null,
   "id": "8c1b259d-ed27-421f-85b4-5cafd4f2d415",
   "metadata": {},
   "outputs": [],
   "source": [
    "import cv2\n"
   ]
  },
  {
   "cell_type": "code",
   "execution_count": null,
   "id": "e54e9184-745b-4014-bba6-849ca8e5d496",
   "metadata": {},
   "outputs": [],
   "source": [
    "import cv2"
   ]
  },
  {
   "cell_type": "code",
   "execution_count": null,
   "id": "9a50851b-0c42-4101-aa7f-28cc8637608d",
   "metadata": {},
   "outputs": [],
   "source": [
    "img = cv2.imread(\"mobil.jpg\")\n",
    "\n",
    "if img is None:\n",
    "    print(\"Gambar tidak ditemukan atau gagal dibaca\")\n",
    "else:\n",
    "    cv2.imshow(\"Gambar\", img)\n",
    "    cv2.waitKey(0)\n",
    "    cv2.destroyAllWindows()"
   ]
  },
  {
   "cell_type": "code",
   "execution_count": 1,
   "id": "23426a87-69c8-4e10-9738-9c7500953927",
   "metadata": {},
   "outputs": [],
   "source": [
    "import cv2"
   ]
  },
  {
   "cell_type": "code",
   "execution_count": 11,
   "id": "948e99ef-6462-4c81-85db-b5445f4c85ab",
   "metadata": {},
   "outputs": [],
   "source": [
    "img = cv2.imread(\"mobil.jpg\")"
   ]
  },
  {
   "cell_type": "code",
   "execution_count": 17,
   "id": "9b3d7996-fa85-4958-b1d3-b454cdb57d8b",
   "metadata": {},
   "outputs": [],
   "source": [
    "cv2.imshow(\"Gambar\",img)\n",
    "cv2.waitKey(0)\n",
    "cv2.destroyAllWindows()"
   ]
  },
  {
   "cell_type": "code",
   "execution_count": 19,
   "id": "90a93b7c-f2e6-4a80-ac5c-f82ada614c95",
   "metadata": {},
   "outputs": [
    {
     "name": "stdout",
     "output_type": "stream",
     "text": [
      "(853, 1280, 3)\n"
     ]
    }
   ],
   "source": [
    "print(img.shape)"
   ]
  },
  {
   "cell_type": "markdown",
   "id": "61e759b9-47cd-4ffe-84e7-f6aaea814cbb",
   "metadata": {},
   "source": [
    "grayscale dengan open cv"
   ]
  },
  {
   "cell_type": "code",
   "execution_count": 21,
   "id": "6617dc1a-ab9e-41c4-a7ca-d0cf47153937",
   "metadata": {},
   "outputs": [],
   "source": [
    "gray = cv2.cvtColor(img, cv2.COLOR_BGR2GRAY)"
   ]
  },
  {
   "cell_type": "code",
   "execution_count": 25,
   "id": "3ba63bd8-a646-4bad-9b29-7b90e1ec86d5",
   "metadata": {},
   "outputs": [],
   "source": [
    "cv2.imshow(\"abu-abu\",gray)\n",
    "cv2.waitKey(0)\n",
    "cv2.destroyAllWindows()\n",
    "#202331329_Fakhliq a Y"
   ]
  },
  {
   "cell_type": "code",
   "execution_count": 27,
   "id": "d9c8d5aa-73d6-4eb2-8756-23f663cafbb3",
   "metadata": {},
   "outputs": [
    {
     "name": "stdout",
     "output_type": "stream",
     "text": [
      "(853, 1280)\n"
     ]
    }
   ],
   "source": [
    "print(gray.shape)"
   ]
  },
  {
   "cell_type": "markdown",
   "id": "f37a834a-e6dd-4764-b809-5f1d24afd0df",
   "metadata": {},
   "source": [
    " grayscale to binary dengan open cv"
   ]
  },
  {
   "cell_type": "code",
   "execution_count": 29,
   "id": "cb281367-408b-4b13-8d1f-b6128284913c",
   "metadata": {},
   "outputs": [],
   "source": [
    "(tresh, binary) = cv2.threshold(gray, 128,255,cv2.THRESH_BINARY)"
   ]
  },
  {
   "cell_type": "code",
   "execution_count": null,
   "id": "97b7ae57-8926-4b5d-aca3-bb6a54000b02",
   "metadata": {},
   "outputs": [],
   "source": [
    "cv2.imshow(\"biner\",binary)\n",
    "cv2.waitKey(0)\n",
    "cv2.destroyAllWindows()\n",
    "#202331329_Fakhliq a Y"
   ]
  },
  {
   "cell_type": "markdown",
   "id": "38c4f98b-6c42-4285-8e2b-c79dfebf45d1",
   "metadata": {},
   "source": [
    "MenyimpN gAMBAR"
   ]
  },
  {
   "cell_type": "code",
   "execution_count": null,
   "id": "3f0177ac-2f8a-4e76-86c9-0c152001328e",
   "metadata": {},
   "outputs": [],
   "source": [
    "cv2.imwrite('Gambar Abu.jpg',gray)"
   ]
  },
  {
   "cell_type": "code",
   "execution_count": 1,
   "id": "0651bf91-37e9-4c0d-a014-0464fd0ae5f0",
   "metadata": {},
   "outputs": [
    {
     "ename": "NameError",
     "evalue": "name 'cv2' is not defined",
     "output_type": "error",
     "traceback": [
      "\u001b[1;31m---------------------------------------------------------------------------\u001b[0m",
      "\u001b[1;31mNameError\u001b[0m                                 Traceback (most recent call last)",
      "Cell \u001b[1;32mIn[1], line 1\u001b[0m\n\u001b[1;32m----> 1\u001b[0m cv2\u001b[38;5;241m.\u001b[39mimwrite(\u001b[38;5;124m'\u001b[39m\u001b[38;5;124mGambar Abu.jpg\u001b[39m\u001b[38;5;124m'\u001b[39m,gray)\n",
      "\u001b[1;31mNameError\u001b[0m: name 'cv2' is not defined"
     ]
    }
   ],
   "source": [
    "cv2.imwrite('Gambar Abu.jpg',gray)"
   ]
  },
  {
   "cell_type": "code",
   "execution_count": 3,
   "id": "398f2813-35f8-4639-889b-8bedb9699078",
   "metadata": {},
   "outputs": [],
   "source": [
    "import cv2"
   ]
  },
  {
   "cell_type": "code",
   "execution_count": 5,
   "id": "9d52ab68-7cbe-4f09-a6af-d70d15ed2d0b",
   "metadata": {},
   "outputs": [
    {
     "ename": "NameError",
     "evalue": "name 'gray' is not defined",
     "output_type": "error",
     "traceback": [
      "\u001b[1;31m---------------------------------------------------------------------------\u001b[0m",
      "\u001b[1;31mNameError\u001b[0m                                 Traceback (most recent call last)",
      "Cell \u001b[1;32mIn[5], line 1\u001b[0m\n\u001b[1;32m----> 1\u001b[0m cv2\u001b[38;5;241m.\u001b[39mimwrite(\u001b[38;5;124m'\u001b[39m\u001b[38;5;124mGambar Abu.jpg\u001b[39m\u001b[38;5;124m'\u001b[39m,gray)\n",
      "\u001b[1;31mNameError\u001b[0m: name 'gray' is not defined"
     ]
    }
   ],
   "source": [
    "cv2.imwrite('Gambar Abu.jpg',gray)"
   ]
  },
  {
   "cell_type": "code",
   "execution_count": 7,
   "id": "9beb7cc4-f151-497d-bf5a-01488039a402",
   "metadata": {},
   "outputs": [
    {
     "ename": "NameError",
     "evalue": "name 'img' is not defined",
     "output_type": "error",
     "traceback": [
      "\u001b[1;31m---------------------------------------------------------------------------\u001b[0m",
      "\u001b[1;31mNameError\u001b[0m                                 Traceback (most recent call last)",
      "Cell \u001b[1;32mIn[7], line 1\u001b[0m\n\u001b[1;32m----> 1\u001b[0m gray \u001b[38;5;241m=\u001b[39m cv2\u001b[38;5;241m.\u001b[39mcvtColor(img, cv2\u001b[38;5;241m.\u001b[39mCOLOR_BGR2GRAY)\n",
      "\u001b[1;31mNameError\u001b[0m: name 'img' is not defined"
     ]
    }
   ],
   "source": [
    "gray = cv2.cvtColor(img, cv2.COLOR_BGR2GRAY)"
   ]
  },
  {
   "cell_type": "code",
   "execution_count": 9,
   "id": "cc38e8c2-df6a-4698-9e05-d7c0a48f3fc9",
   "metadata": {},
   "outputs": [],
   "source": [
    "img = cv2.imread('mobil.jpg')\n",
    "#202331329_Fakhliq a Y"
   ]
  },
  {
   "cell_type": "code",
   "execution_count": 11,
   "id": "6fa0e21c-71f8-41ac-80b6-13926f634e28",
   "metadata": {},
   "outputs": [],
   "source": [
    "cv2.imshow(\"Gambar\",img)\n",
    "cv2.waitKey(0)\n",
    "cv2.destroyAllWindows()"
   ]
  },
  {
   "cell_type": "code",
   "execution_count": 13,
   "id": "d569aad9-3f57-400f-a3bd-3b39a3530be0",
   "metadata": {},
   "outputs": [],
   "source": [
    "gray = cv2.cvtColor(img, cv2.COLOR_BGR2GRAY)"
   ]
  },
  {
   "cell_type": "code",
   "execution_count": null,
   "id": "8983a403-345c-4bb3-929c-ef95bf3f6f84",
   "metadata": {},
   "outputs": [],
   "source": [
    "cv2.imshow(\"abu-abu\",gray)\n",
    "cv2.waitKey(0)\n",
    "cv2.destroyAllWindows()\n",
    "#202331329_Fakhliq a Y"
   ]
  },
  {
   "cell_type": "code",
   "execution_count": null,
   "id": "add39388-d502-47f7-b013-eecf7b2e1c57",
   "metadata": {},
   "outputs": [],
   "source": [
    "cv2.imwrite('Gambar Abu.jpg',gray)"
   ]
  },
  {
   "cell_type": "code",
   "execution_count": 1,
   "id": "c89f995f-95c5-483d-96d9-c037d04fe600",
   "metadata": {},
   "outputs": [],
   "source": [
    "import cv2"
   ]
  },
  {
   "cell_type": "code",
   "execution_count": 5,
   "id": "bc6ace77-391b-4d0c-a57e-924debcbc049",
   "metadata": {},
   "outputs": [],
   "source": [
    "img = cv2.imread('mobil.jpg')\n",
    "#202331329_Fakhliq a Y"
   ]
  },
  {
   "cell_type": "code",
   "execution_count": 7,
   "id": "c08b9f6c-110f-49fc-80d9-3ec761b9d5fb",
   "metadata": {},
   "outputs": [],
   "source": [
    "gray = cv2.cvtColor(img, cv2.COLOR_BGR2GRAY)"
   ]
  },
  {
   "cell_type": "code",
   "execution_count": 11,
   "id": "16b8c165-1694-44bf-9568-1d78d682d1dc",
   "metadata": {},
   "outputs": [
    {
     "data": {
      "text/plain": [
       "True"
      ]
     },
     "execution_count": 11,
     "metadata": {},
     "output_type": "execute_result"
    }
   ],
   "source": [
    "cv2.imwrite('Gambar Abu.jpg',gray)"
   ]
  },
  {
   "cell_type": "code",
   "execution_count": null,
   "id": "02f98c8f-ed3b-46c0-8643-68f7ff9e739d",
   "metadata": {},
   "outputs": [],
   "source": []
  },
  {
   "cell_type": "code",
   "execution_count": 1,
   "id": "f5638a08-d030-4024-97b6-d5e5c20a1853",
   "metadata": {},
   "outputs": [],
   "source": [
    "import cv2 \n",
    "import numpy as np"
   ]
  },
  {
   "cell_type": "code",
   "execution_count": 3,
   "id": "9d4ed99d-4779-4fc5-a346-9f964cd9ca5b",
   "metadata": {},
   "outputs": [
    {
     "ename": "SyntaxError",
     "evalue": "invalid decimal literal (4019409697.py, line 1)",
     "output_type": "error",
     "traceback": [
      "\u001b[1;36m  Cell \u001b[1;32mIn[3], line 1\u001b[1;36m\u001b[0m\n\u001b[1;33m    citra = cv.2imread(\"mobil.jpg\")\u001b[0m\n\u001b[1;37m               ^\u001b[0m\n\u001b[1;31mSyntaxError\u001b[0m\u001b[1;31m:\u001b[0m invalid decimal literal\n"
     ]
    }
   ],
   "source": [
    "citra = cv.2imread(\"mobil.jpg\")"
   ]
  },
  {
   "cell_type": "code",
   "execution_count": 3,
   "id": "6c687ce3-fe60-44d7-b760-dc3967d79583",
   "metadata": {},
   "outputs": [],
   "source": [
    "import cv2 \n",
    "import numpy as np"
   ]
  },
  {
   "cell_type": "code",
   "execution_count": 5,
   "id": "e4d4ab6d-8a0f-4c07-a788-f7799a1fdd77",
   "metadata": {},
   "outputs": [],
   "source": [
    "citra = cv2.imread(\"mobil.jpg\")"
   ]
  },
  {
   "cell_type": "code",
   "execution_count": 7,
   "id": "7cc2dac6-6254-48a9-8dbf-8edd17ab001d",
   "metadata": {},
   "outputs": [],
   "source": [
    "cv2.imshow(\"Citra Alsi\",citra)"
   ]
  },
  {
   "cell_type": "code",
   "execution_count": 1,
   "id": "17bc67e9-d9a4-457b-ab88-acc0687b6208",
   "metadata": {},
   "outputs": [],
   "source": [
    "import cv2 \n",
    "import numpy as np"
   ]
  },
  {
   "cell_type": "code",
   "execution_count": 3,
   "id": "8f678632-0382-4ea6-ae9b-38a2ce3f3edd",
   "metadata": {},
   "outputs": [],
   "source": [
    "citra = cv2.imread(\"mobil.jpg\")"
   ]
  },
  {
   "cell_type": "code",
   "execution_count": null,
   "id": "1fe54f49-b3f3-4588-b9fb-9db5608215c8",
   "metadata": {},
   "outputs": [],
   "source": [
    "cv2.imshow(\"Citra Asli\",citra)\n",
    "cv2.waitKey(0)\n",
    "cv2.destroyAllWindows()"
   ]
  },
  {
   "cell_type": "code",
   "execution_count": null,
   "id": "a5525ad3-42fc-4f59-9b59-e407557b8faa",
   "metadata": {},
   "outputs": [],
   "source": [
    "print(citra.shape)\n",
    "print(citra.dtype)"
   ]
  },
  {
   "cell_type": "code",
   "execution_count": 1,
   "id": "a431e9c7-bfe6-45ff-8105-c1319dbd45a0",
   "metadata": {},
   "outputs": [],
   "source": [
    "import cv2 \n",
    "import numpy as np"
   ]
  },
  {
   "cell_type": "code",
   "execution_count": 3,
   "id": "52c5286e-bb71-4210-9521-b22134e21166",
   "metadata": {},
   "outputs": [],
   "source": [
    "citra = cv2.imread(\"mobil.jpg\")"
   ]
  },
  {
   "cell_type": "code",
   "execution_count": 5,
   "id": "bad4bc66-44d9-47fa-a3a9-6d10fe5d46de",
   "metadata": {},
   "outputs": [],
   "source": [
    "cv2.imshow(\"Citra Asli\",citra)\n",
    "cv2.waitKey(0)\n",
    "cv2.destroyAllWindows()"
   ]
  },
  {
   "cell_type": "code",
   "execution_count": 7,
   "id": "a9c30ab3-725a-498a-aa88-7f5ee8049d7c",
   "metadata": {},
   "outputs": [
    {
     "name": "stdout",
     "output_type": "stream",
     "text": [
      "(853, 1280, 3)\n",
      "uint8\n"
     ]
    }
   ],
   "source": [
    "print(citra.shape)\n",
    "print(citra.dtype)"
   ]
  },
  {
   "cell_type": "code",
   "execution_count": 9,
   "id": "b0293dbc-2ff5-49e8-b523-0c441335c68f",
   "metadata": {},
   "outputs": [],
   "source": [
    "b = citra[:,:,:0]\n",
    "g = citra[:,:,:1]\n",
    "r = citra[:,:,:2]"
   ]
  },
  {
   "cell_type": "code",
   "execution_count": 11,
   "id": "33f0aad4-0c71-43f8-8198-376fec082ffa",
   "metadata": {},
   "outputs": [
    {
     "ename": "SyntaxError",
     "evalue": "invalid syntax (1848096218.py, line 7)",
     "output_type": "error",
     "traceback": [
      "\u001b[1;36m  Cell \u001b[1;32mIn[11], line 7\u001b[1;36m\u001b[0m\n\u001b[1;33m    for jin range (lebar):\u001b[0m\n\u001b[1;37m            ^\u001b[0m\n\u001b[1;31mSyntaxError\u001b[0m\u001b[1;31m:\u001b[0m invalid syntax\n"
     ]
    }
   ],
   "source": [
    "panjang = len(citra)\n",
    "lebar = len(citra[0])\n",
    "\n",
    "citra_gray = np.zeros((panjang, lebar))\n",
    "\n",
    "for i in range (panjang):\n",
    "    for jin range (lebar):\n",
    "      citra_gray[i,j] + 0.587*g[i,7] + 0.1147*b[i,7]\n",
    "\n",
    "citra_gray = citra_gray.astype(np.uint8)\n",
    "\n",
    "cv2.imshow(\"abu\",citra_gray)\n",
    "cv2.waitKey(0)\n",
    "cv2.destroyAllWindows()"
   ]
  },
  {
   "cell_type": "code",
   "execution_count": 13,
   "id": "0b78e2f1-2025-4f10-8ce2-0836ca8115b5",
   "metadata": {},
   "outputs": [],
   "source": [
    "panjang = len(citra)\n",
    "lebar = len(citra[0])\n",
    "\n",
    "citra_gray = np.zeros((panjang, lebar))\n",
    "\n",
    "for i in range (panjang):\n",
    "    for j in range (lebar):\n",
    "      citra_gray[i,j] + 0.587*g[i,7] + 0.1147*b[i,7]\n",
    "\n",
    "citra_gray = citra_gray.astype(np.uint8)\n",
    "\n",
    "cv2.imshow(\"abu\",citra_gray)\n",
    "cv2.waitKey(0)\n",
    "cv2.destroyAllWindows()"
   ]
  },
  {
   "cell_type": "code",
   "execution_count": 15,
   "id": "d4cce05f-0c29-41a5-afbd-3a2dbc9505fd",
   "metadata": {},
   "outputs": [],
   "source": [
    "panjang = len(citra)\n",
    "lebar = len(citra[0])\n",
    "\n",
    "citra_gray = np.zeros((panjang, lebar))\n",
    "\n",
    "for i in range (panjang):\n",
    "    for j in range (lebar):\n",
    "      citra_gray[i,j] + 0.587*g[i,7] + 0.1147*b[i,7]\n",
    "\n",
    "citra_gray = citra_gray.astype(np.uint8)\n",
    "\n",
    "cv2.imshow(\"abu\",citra_gray)\n",
    "cv2.waitKey(0)\n",
    "cv2.destroyAllWindows()"
   ]
  },
  {
   "cell_type": "code",
   "execution_count": null,
   "id": "0d2c49a3-ba2b-4167-b4b3-8bc43f48d4b3",
   "metadata": {},
   "outputs": [],
   "source": []
  },
  {
   "cell_type": "code",
   "execution_count": 18,
   "id": "5709a149-0c4e-492c-bf1b-03af06b346c4",
   "metadata": {},
   "outputs": [],
   "source": [
    "panjang = len(citra)\n",
    "lebar = len(citra[0])\n",
    "\n",
    "citra_gray = np.zeros((panjang, lebar))\n",
    "\n",
    "for i in range (panjang):\n",
    "    for j in range (lebar):\n",
    "      citra_gray[i,j] + 0.587*g[i,7] + 0.1147*b[i,7]\n",
    "\n",
    "citra_gray = citra_gray.astype(np.uint8)\n",
    "\n",
    "cv2.imshow(\"abu\",citra_gray)\n",
    "cv2.waitKey(0)\n",
    "cv2.destroyAllWindows()"
   ]
  },
  {
   "cell_type": "code",
   "execution_count": 20,
   "id": "a5a170ff-e03f-46fe-aaa3-0570bbe4a9fb",
   "metadata": {},
   "outputs": [
    {
     "ename": "ValueError",
     "evalue": "operands could not be broadcast together with shapes (2,) (0,) ",
     "output_type": "error",
     "traceback": [
      "\u001b[1;31m---------------------------------------------------------------------------\u001b[0m",
      "\u001b[1;31mValueError\u001b[0m                                Traceback (most recent call last)",
      "Cell \u001b[1;32mIn[20], line 8\u001b[0m\n\u001b[0;32m      6\u001b[0m \u001b[38;5;28;01mfor\u001b[39;00m i \u001b[38;5;129;01min\u001b[39;00m \u001b[38;5;28mrange\u001b[39m (panjang):\n\u001b[0;32m      7\u001b[0m     \u001b[38;5;28;01mfor\u001b[39;00m j \u001b[38;5;129;01min\u001b[39;00m \u001b[38;5;28mrange\u001b[39m (lebar):\n\u001b[1;32m----> 8\u001b[0m       citra_gray[i,j] \u001b[38;5;241m=\u001b[39m \u001b[38;5;241m0.2989\u001b[39m\u001b[38;5;241m*\u001b[39mr[i,j] \u001b[38;5;241m+\u001b[39m \u001b[38;5;241m0.587\u001b[39m\u001b[38;5;241m*\u001b[39mg[i,j] \u001b[38;5;241m+\u001b[39m \u001b[38;5;241m0.1147\u001b[39m\u001b[38;5;241m*\u001b[39mb[i,j]\n\u001b[0;32m     10\u001b[0m citra_gray \u001b[38;5;241m=\u001b[39m citra_gray\u001b[38;5;241m.\u001b[39mastype(np\u001b[38;5;241m.\u001b[39muint8)\n\u001b[0;32m     12\u001b[0m cv2\u001b[38;5;241m.\u001b[39mimshow(\u001b[38;5;124m\"\u001b[39m\u001b[38;5;124mabu\u001b[39m\u001b[38;5;124m\"\u001b[39m,citra_gray)\n",
      "\u001b[1;31mValueError\u001b[0m: operands could not be broadcast together with shapes (2,) (0,) "
     ]
    }
   ],
   "source": [
    "panjang = len(citra)\n",
    "lebar = len(citra[0])\n",
    "\n",
    "citra_gray = np.zeros((panjang, lebar))\n",
    "\n",
    "for i in range (panjang):\n",
    "    for j in range (lebar):\n",
    "      citra_gray[i,j] = 0.2989*r[i,j] + 0.587*g[i,j] + 0.1147*b[i,j]\n",
    "\n",
    "citra_gray = citra_gray.astype(np.uint8)\n",
    "\n",
    "cv2.imshow(\"abu\",citra_gray)\n",
    "cv2.waitKey(0)\n",
    "cv2.destroyAllWindows()"
   ]
  },
  {
   "cell_type": "code",
   "execution_count": 1,
   "id": "eace1984-06b5-4547-a3f3-1c1ab3b61247",
   "metadata": {},
   "outputs": [],
   "source": [
    "import cv2 \n",
    "import numpy as np"
   ]
  },
  {
   "cell_type": "code",
   "execution_count": 3,
   "id": "9e18e267-28ea-4b66-b17b-defd8c1aa0fa",
   "metadata": {},
   "outputs": [],
   "source": [
    "citra = cv2.imread(\"mobil.jpg\")"
   ]
  },
  {
   "cell_type": "code",
   "execution_count": null,
   "id": "31eef2f6-07bc-4f4d-9b72-f2b149fc44a8",
   "metadata": {},
   "outputs": [],
   "source": [
    "cv2.imshow(\"Citra Asli\",citra)\n",
    "cv2.waitKey(0)\n",
    "cv2.destroyAllWindows()"
   ]
  },
  {
   "cell_type": "code",
   "execution_count": null,
   "id": "78a20a3b-349f-4b82-9dd3-71e4ec8c1a82",
   "metadata": {},
   "outputs": [],
   "source": [
    "print(citra.shape)\n",
    "print(citra.dtype)"
   ]
  },
  {
   "cell_type": "code",
   "execution_count": null,
   "id": "c651d119-a07a-4ed8-80c8-984511f5e6a3",
   "metadata": {},
   "outputs": [],
   "source": [
    "print(citra.shape)\n",
    "print(citra.dtype)"
   ]
  },
  {
   "cell_type": "code",
   "execution_count": null,
   "id": "af235584-a114-4c8e-ac45-16dddadaa5ac",
   "metadata": {},
   "outputs": [],
   "source": [
    "print(citra.shape)\n",
    "print(citra.dtype)"
   ]
  },
  {
   "cell_type": "code",
   "execution_count": null,
   "id": "8680343a-41c9-43c5-be32-531cec97bb8d",
   "metadata": {},
   "outputs": [],
   "source": [
    "print(citra.shape)\n",
    "print(citra.dtype)"
   ]
  },
  {
   "cell_type": "code",
   "execution_count": 1,
   "id": "d42a6c27-394b-445d-997f-5c6a58e4a562",
   "metadata": {},
   "outputs": [],
   "source": [
    "import cv2 \n",
    "import numpy as np"
   ]
  },
  {
   "cell_type": "code",
   "execution_count": 3,
   "id": "faf75058-f8f3-4571-b6bc-a39d4718ba76",
   "metadata": {},
   "outputs": [],
   "source": [
    "citra = cv2.imread(\"mobil.jpg\")"
   ]
  },
  {
   "cell_type": "code",
   "execution_count": 5,
   "id": "e1ba3488-3019-40b1-8812-9f1498260f5d",
   "metadata": {},
   "outputs": [],
   "source": [
    "cv2.imshow(\"Citra Asli\",citra)\n",
    "cv2.waitKey(0)\n",
    "cv2.destroyAllWindows()"
   ]
  },
  {
   "cell_type": "code",
   "execution_count": 7,
   "id": "9f6d7816-dae8-43d8-a71c-64fc24706de6",
   "metadata": {},
   "outputs": [
    {
     "name": "stdout",
     "output_type": "stream",
     "text": [
      "(853, 1280, 3)\n",
      "uint8\n"
     ]
    }
   ],
   "source": [
    "print(citra.shape)\n",
    "print(citra.dtype)"
   ]
  },
  {
   "cell_type": "code",
   "execution_count": 9,
   "id": "fe34e9c7-717b-406c-b623-a10174cc50c0",
   "metadata": {},
   "outputs": [],
   "source": [
    "b = citra[:,:,0]\n",
    "g = citra[:,:,1]\n",
    "r = citra[:,:,2]"
   ]
  },
  {
   "cell_type": "code",
   "execution_count": 11,
   "id": "c29555a8-7ed6-416b-a135-74fdaf4c0884",
   "metadata": {},
   "outputs": [],
   "source": [
    "panjang = len(citra)\n",
    "lebar = len(citra[0])\n",
    "\n",
    "citra_gray = np.zeros((panjang, lebar))\n",
    "\n",
    "for i in range (panjang):\n",
    "    for j in range (lebar):\n",
    "      citra_gray[i,j] = 0.2989*r[i,j] + 0.587*g[i,j] + 0.1147*b[i,j]\n",
    "\n",
    "citra_gray = citra_gray.astype(np.uint8)\n",
    "\n",
    "cv2.imshow(\"abu\",citra_gray)\n",
    "cv2.waitKey(0)\n",
    "cv2.destroyAllWindows()"
   ]
  },
  {
   "cell_type": "code",
   "execution_count": 13,
   "id": "e049d7b4-de8b-4a28-a686-e4aa32ea4e35",
   "metadata": {},
   "outputs": [
    {
     "ename": "NameError",
     "evalue": "name 'jpg' is not defined",
     "output_type": "error",
     "traceback": [
      "\u001b[1;31m---------------------------------------------------------------------------\u001b[0m",
      "\u001b[1;31mNameError\u001b[0m                                 Traceback (most recent call last)",
      "Cell \u001b[1;32mIn[13], line 1\u001b[0m\n\u001b[1;32m----> 1\u001b[0m rgv \u001b[38;5;241m=\u001b[39m cv2\u001b[38;5;241m.\u001b[39mcvtColor(jpg, cv2\u001b[38;5;241m.\u001b[39mCOLOR_BGR2RGB)\n",
      "\u001b[1;31mNameError\u001b[0m: name 'jpg' is not defined"
     ]
    }
   ],
   "source": [
    "rgv = cv2.cvtColor(jpg, cv2.COLOR_BGR2RGB)"
   ]
  },
  {
   "cell_type": "code",
   "execution_count": 15,
   "id": "ffd96b7c-c46e-4756-b4f8-2283baece8d9",
   "metadata": {
    "scrolled": true
   },
   "outputs": [
    {
     "ename": "NameError",
     "evalue": "name 'jpg' is not defined",
     "output_type": "error",
     "traceback": [
      "\u001b[1;31m---------------------------------------------------------------------------\u001b[0m",
      "\u001b[1;31mNameError\u001b[0m                                 Traceback (most recent call last)",
      "Cell \u001b[1;32mIn[15], line 1\u001b[0m\n\u001b[1;32m----> 1\u001b[0m rgb \u001b[38;5;241m=\u001b[39m cv2\u001b[38;5;241m.\u001b[39mcvtColor(jpg, cv2\u001b[38;5;241m.\u001b[39mCOLOR_BGR2RGB)\n",
      "\u001b[1;31mNameError\u001b[0m: name 'jpg' is not defined"
     ]
    }
   ],
   "source": [
    "rgb = cv2.cvtColor(jpg, cv2.COLOR_BGR2RGB)"
   ]
  },
  {
   "cell_type": "code",
   "execution_count": 17,
   "id": "6892617a-f47d-4f42-9b59-5211dc9a8b89",
   "metadata": {},
   "outputs": [
    {
     "ename": "NameError",
     "evalue": "name 'img' is not defined",
     "output_type": "error",
     "traceback": [
      "\u001b[1;31m---------------------------------------------------------------------------\u001b[0m",
      "\u001b[1;31mNameError\u001b[0m                                 Traceback (most recent call last)",
      "Cell \u001b[1;32mIn[17], line 1\u001b[0m\n\u001b[1;32m----> 1\u001b[0m rgb \u001b[38;5;241m=\u001b[39m cv2\u001b[38;5;241m.\u001b[39mcvtColor(img, cv2\u001b[38;5;241m.\u001b[39mCOLOR_BGR2RGB)\n",
      "\u001b[1;31mNameError\u001b[0m: name 'img' is not defined"
     ]
    }
   ],
   "source": [
    "rgb = cv2.cvtColor(img, cv2.COLOR_BGR2RGB)"
   ]
  },
  {
   "cell_type": "code",
   "execution_count": 19,
   "id": "19cc73eb-df2d-451b-a014-cca5bc14c48e",
   "metadata": {},
   "outputs": [
    {
     "ename": "error",
     "evalue": "OpenCV(4.11.0) :-1: error: (-5:Bad argument) in function 'cvtColor'\n> Overload resolution failed:\n>  - src is not a numpy array, neither a scalar\n>  - Expected Ptr<cv::UMat> for argument 'src'\n",
     "output_type": "error",
     "traceback": [
      "\u001b[1;31m---------------------------------------------------------------------------\u001b[0m",
      "\u001b[1;31merror\u001b[0m                                     Traceback (most recent call last)",
      "Cell \u001b[1;32mIn[19], line 1\u001b[0m\n\u001b[1;32m----> 1\u001b[0m rgb \u001b[38;5;241m=\u001b[39m cv2\u001b[38;5;241m.\u001b[39mcvtColor(\u001b[38;5;124m\"\u001b[39m\u001b[38;5;124mabu\u001b[39m\u001b[38;5;124m\"\u001b[39m, cv2\u001b[38;5;241m.\u001b[39mCOLOR_BGR2RGB)\n",
      "\u001b[1;31merror\u001b[0m: OpenCV(4.11.0) :-1: error: (-5:Bad argument) in function 'cvtColor'\n> Overload resolution failed:\n>  - src is not a numpy array, neither a scalar\n>  - Expected Ptr<cv::UMat> for argument 'src'\n"
     ]
    }
   ],
   "source": [
    "rgb = cv2.cvtColor(\"abu\", cv2.COLOR_BGR2RGB)"
   ]
  },
  {
   "cell_type": "code",
   "execution_count": 21,
   "id": "4920eafa-20fe-41e9-b147-ac497bf92c8f",
   "metadata": {},
   "outputs": [],
   "source": [
    "rgb = cv2.cvtColor(citra, cv2.COLOR_BGR2RGB)"
   ]
  },
  {
   "cell_type": "code",
   "execution_count": 1,
   "id": "015510e1-3589-4d32-9808-3b50798d7c9b",
   "metadata": {},
   "outputs": [],
   "source": [
    "import cv2 \n",
    "import numpy as np"
   ]
  },
  {
   "cell_type": "raw",
   "id": "d5d40bbe-6983-407b-bfa6-2cfde6246ddf",
   "metadata": {},
   "source": [
    "Import Library"
   ]
  },
  {
   "cell_type": "code",
   "execution_count": 1,
   "id": "630b1c32-e7c4-4772-b001-99405bc91ebc",
   "metadata": {},
   "outputs": [],
   "source": [
    "import cv2 \n",
    "import numpy as np"
   ]
  },
  {
   "cell_type": "code",
   "execution_count": 3,
   "id": "fc2bf9f8-5201-468f-bb0a-dc84baf64a84",
   "metadata": {},
   "outputs": [],
   "source": [
    "#202331329_Fakhliq Ainul Yaqin\n",
    "citra = cv2.imread(\"mobil.jpg\")"
   ]
  },
  {
   "cell_type": "code",
   "execution_count": 5,
   "id": "cc8883f3-31f7-46fd-8c01-fec260b26107",
   "metadata": {},
   "outputs": [],
   "source": [
    "cv2.imshow(\"Citra Asli\",citra)\n",
    "cv2.waitKey(0)\n",
    "cv2.destroyAllWindows()"
   ]
  },
  {
   "cell_type": "code",
   "execution_count": 7,
   "id": "85427b4f-148e-40f5-88c6-41fd9e10a314",
   "metadata": {},
   "outputs": [
    {
     "name": "stdout",
     "output_type": "stream",
     "text": [
      "(853, 1280, 3)\n",
      "uint8\n"
     ]
    }
   ],
   "source": [
    "print(citra.shape)\n",
    "print(citra.dtype)"
   ]
  },
  {
   "cell_type": "code",
   "execution_count": 9,
   "id": "858b873c-168d-4abc-8d2e-b5cd3e063392",
   "metadata": {},
   "outputs": [],
   "source": [
    "#202331329_FAkhliq Ainul Yaqin\n",
    "b = citra[:,:,0]\n",
    "g = citra[:,:,1]\n",
    "r = citra[:,:,2]"
   ]
  },
  {
   "cell_type": "code",
   "execution_count": 11,
   "id": "22fd6e2b-5dc0-4fd2-a2a2-2fee40a22138",
   "metadata": {},
   "outputs": [],
   "source": [
    "#202331329_Fakhliq Ainul Yaqin\n",
    "panjang = len(citra)\n",
    "lebar = len(citra[0])\n",
    "\n",
    "citra_gray = np.zeros((panjang, lebar))\n",
    "\n",
    "for i in range (panjang):\n",
    "    for j in range (lebar):\n",
    "      citra_gray[i,j] = 0.2989*r[i,j] + 0.587*g[i,j] + 0.1147*b[i,j]\n",
    "\n",
    "citra_gray = citra_gray.astype(np.uint8)\n",
    "\n",
    "cv2.imshow(\"abu\",citra_gray)\n",
    "cv2.waitKey(0)\n",
    "cv2.destroyAllWindows()"
   ]
  },
  {
   "cell_type": "markdown",
   "id": "a72bf912-77c7-458b-a770-a986dc592af9",
   "metadata": {},
   "source": [
    "Convert BGR to RGB"
   ]
  },
  {
   "cell_type": "code",
   "execution_count": 13,
   "id": "af2da590-9e11-4bce-9397-679c1ac91c6b",
   "metadata": {},
   "outputs": [],
   "source": [
    "rgb = cv2.cvtColor(citra, cv2.COLOR_BGR2RGB)"
   ]
  },
  {
   "cell_type": "code",
   "execution_count": null,
   "id": "544291bd-9763-4d0e-9667-b3494dde4853",
   "metadata": {},
   "outputs": [],
   "source": []
  }
 ],
 "metadata": {
  "kernelspec": {
   "display_name": "Python [conda env:base] *",
   "language": "python",
   "name": "conda-base-py"
  },
  "language_info": {
   "codemirror_mode": {
    "name": "ipython",
    "version": 3
   },
   "file_extension": ".py",
   "mimetype": "text/x-python",
   "name": "python",
   "nbconvert_exporter": "python",
   "pygments_lexer": "ipython3",
   "version": "3.12.7"
  }
 },
 "nbformat": 4,
 "nbformat_minor": 5
}
