{
 "cells": [
  {
   "cell_type": "code",
   "execution_count": null,
   "id": "34b6fd33-62f6-4461-9179-c00572762cab",
   "metadata": {},
   "outputs": [],
   "source": [
    "#Konsep dasar citra"
   ]
  },
  {
   "cell_type": "code",
   "execution_count": 1,
   "id": "1a896da9-3412-4491-b0fa-a421ba8d0384",
   "metadata": {},
   "outputs": [],
   "source": [
    "##import library"
   ]
  },
  {
   "cell_type": "code",
   "execution_count": 6,
   "id": "0cda618e-386e-4ac5-9e6d-3af1a3046704",
   "metadata": {},
   "outputs": [
    {
     "ename": "SyntaxError",
     "evalue": "invalid syntax (886474464.py, line 1)",
     "output_type": "error",
     "traceback": [
      "\u001b[1;36m  Cell \u001b[1;32mIn[6], line 1\u001b[1;36m\u001b[0m\n\u001b[1;33m    -pip install opencv-python\u001b[0m\n\u001b[1;37m         ^\u001b[0m\n\u001b[1;31mSyntaxError\u001b[0m\u001b[1;31m:\u001b[0m invalid syntax\n"
     ]
    }
   ],
   "source": [
    "-pip install opencv-python"
   ]
  },
  {
   "cell_type": "code",
   "execution_count": 8,
   "id": "b5ba5294-9116-4512-99c1-e8fc074b4e92",
   "metadata": {},
   "outputs": [
    {
     "name": "stdout",
     "output_type": "stream",
     "text": [
      "Requirement already satisfied: opencv-python in c:\\users\\msi\\anaconda3\\lib\\site-packages (4.11.0.86)\n",
      "Requirement already satisfied: numpy>=1.21.2 in c:\\users\\msi\\anaconda3\\lib\\site-packages (from opencv-python) (1.26.4)\n"
     ]
    }
   ],
   "source": [
    "!pip install opencv-python"
   ]
  },
  {
   "cell_type": "code",
   "execution_count": null,
   "id": "c95d1f2c-c405-4f80-b395-cb4ae191c545",
   "metadata": {},
   "outputs": [],
   "source": [
    "import cv2"
   ]
  }
 ],
 "metadata": {
  "kernelspec": {
   "display_name": "Python [conda env:base] *",
   "language": "python",
   "name": "conda-base-py"
  },
  "language_info": {
   "codemirror_mode": {
    "name": "ipython",
    "version": 3
   },
   "file_extension": ".py",
   "mimetype": "text/x-python",
   "name": "python",
   "nbconvert_exporter": "python",
   "pygments_lexer": "ipython3",
   "version": "3.12.7"
  }
 },
 "nbformat": 4,
 "nbformat_minor": 5
}
